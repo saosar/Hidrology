{
 "cells": [
  {
   "cell_type": "code",
   "execution_count": 36,
   "metadata": {},
   "outputs": [
    {
     "name": "stdout",
     "output_type": "stream",
     "text": [
      "<class 'pandas.core.frame.DataFrame'>\n",
      "RangeIndex: 24952 entries, 0 to 24951\n",
      "Data columns (total 3 columns):\n",
      " #   Column   Non-Null Count  Dtype  \n",
      "---  ------   --------------  -----  \n",
      " 0   Dia      24952 non-null  object \n",
      " 1   Estacio  24952 non-null  object \n",
      " 2   Valor    24842 non-null  float64\n",
      "dtypes: float64(1), object(2)\n",
      "memory usage: 584.9+ KB\n",
      "None\n",
      "         Dia                           Estacio  Valor\n",
      "0  7/29/2000  Aforament - Castellar del Vallès   2.06\n",
      "1  7/30/2000  Aforament - Castellar del Vallès   2.00\n",
      "2  7/31/2000  Aforament - Castellar del Vallès   1.96\n",
      "3   8/1/2000  Aforament - Castellar del Vallès   1.64\n",
      "4   8/2/2000  Aforament - Castellar del Vallès   1.52\n",
      "Index(['Dia', 'Estacio', 'Valor'], dtype='object')\n",
      "['Aforament - Castellar del Vallès', 'Aforament - Aiguafreda (riu)', 'Aforament - Montornès del Vallès (el Mogent)', 'Aforament - Santa Perpètua de Mogoda', 'Aforament - Santa Coloma de Gramenet (riu)', 'Aforament - Lliçà de Vall', 'Aforament - Montcada i Reixac (el Ripoll)', 'Aforament - la Garriga']\n",
      "Categories (8, object): ['Aforament - Aiguafreda (riu)', 'Aforament - Castellar del Vallès', 'Aforament - Lliçà de Vall', 'Aforament - Montcada i Reixac (el Ripoll)', 'Aforament - Montornès del Vallès (el Mogent)', 'Aforament - Santa Coloma de Gramenet (riu)', 'Aforament - Santa Perpètua de Mogoda', 'Aforament - la Garriga']\n",
      "Index(['Aforament - Aiguafreda (riu)', 'Aforament - Castellar del Vallès',\n",
      "       'Aforament - Lliçà de Vall',\n",
      "       'Aforament - Montcada i Reixac (el Ripoll)',\n",
      "       'Aforament - Montornès del Vallès (el Mogent)',\n",
      "       'Aforament - Santa Coloma de Gramenet (riu)',\n",
      "       'Aforament - Santa Perpètua de Mogoda', 'Aforament - la Garriga'],\n",
      "      dtype='object')\n",
      "         Dia    Estacio  Valor\n",
      "0  7/29/2000  Castellar   2.06\n",
      "1  7/30/2000  Castellar   2.00\n",
      "2  7/31/2000  Castellar   1.96\n",
      "3   8/1/2000  Castellar   1.64\n",
      "4   8/2/2000  Castellar   1.52\n",
      "         Dia    Estacio  Valor      Fecha  Year\n",
      "0  7/29/2000  Castellar   2.06 2000-07-29  2000\n",
      "1  7/30/2000  Castellar   2.00 2000-07-30  2000\n",
      "2  7/31/2000  Castellar   1.96 2000-07-31  2000\n",
      "3   8/1/2000  Castellar   1.64 2000-08-01  2000\n",
      "4   8/2/2000  Castellar   1.52 2000-08-02  2000\n",
      "         Dia    Estacio  Valor      Fecha  Year  Mes\n",
      "0  7/29/2000  Castellar   2.06 2000-07-29  2000    7\n",
      "1  7/30/2000  Castellar   2.00 2000-07-30  2000    7\n",
      "2  7/31/2000  Castellar   1.96 2000-07-31  2000    7\n",
      "3   8/1/2000  Castellar   1.64 2000-08-01  2000    8\n",
      "4   8/2/2000  Castellar   1.52 2000-08-02  2000    8\n",
      "Estacio\n",
      "Montornes          6094\n",
      "Montcada_Reixac    3648\n",
      "Llica_de_Vall      3646\n",
      "Santa_Perpetua     3604\n",
      "Santa_Coloma       2692\n",
      "Castellar          2577\n",
      "Aiguafreda         1493\n",
      "La_Garriga         1198\n",
      "Name: count, dtype: int64\n",
      "             Dia    Estacio  Valor      Fecha  Year  Mes\n",
      "4070   7/29/2000  Montornes   0.12 2000-07-29  2000    7\n",
      "13414  7/29/2000  Montornes   0.12 2000-07-29  2000    7\n",
      "13416  7/30/2000  Montornes   0.13 2000-07-30  2000    7\n",
      "4072   7/30/2000  Montornes   0.13 2000-07-30  2000    7\n",
      "4074   7/31/2000  Montornes   0.10 2000-07-31  2000    7\n"
     ]
    }
   ],
   "source": [
    "import pandas as pd\n",
    "import matplotlib.pyplot as plt\n",
    "import plotly.express as px\n",
    "import numpy as np\n",
    "\n",
    "# 1. CARGA DEL FICHERO DE DATOS\n",
    "file_path = \"./DatosCaudalesBesos.csv\"  # Cambia esto por la ruta de tu archivo si es diferente\n",
    "TotalDat = pd.read_csv(file_path, encoding='latin1')\n",
    "\n",
    "# 2. Inspección de los datos\n",
    "print(TotalDat.info())     # Estructura de los datos\n",
    "print(TotalDat.head())     # Ver las primeras filas\n",
    "print(TotalDat.columns)    # Ver los nombres de las variables\n",
    "\n",
    "# 3. Modificación de los tipos de datos y creación de nuevas variables\n",
    "TotalDat['Estacio'] = TotalDat['Estacio'].astype('category')  # Convertir 'Estacio' a categoría\n",
    "print(TotalDat['Estacio'].unique())  # Ver los valores únicos de la variable 'Estacio'\n",
    "\n",
    "# 3.1 Renombrar con nombres cortos las estaciones de aforo y medida\n",
    "# Nombres actuales\n",
    "print(TotalDat['Estacio'].cat.categories)\n",
    "\n",
    "# Definir los nuevos nombres cortos\n",
    "nuevos_nombres = {\n",
    "    'Aforament - Castellar del Vallès': \"Castellar\",\n",
    "    'Aforament - Aiguafreda (riu)': \"Aiguafreda\",\n",
    "    'Aforament - Montornès del Vallès (el Mogent)': \"Montornes\",\n",
    "    'Aforament - Santa Perpètua de Mogoda': \"Santa_Perpetua\",\n",
    "    'Aforament - Santa Coloma de Gramenet (riu)': \"Santa_Coloma\",\n",
    "    'Aforament - Lliçà de Vall': \"Llica_de_Vall\",\n",
    "    'Aforament - Montcada i Reixac (el Ripoll)': \"Montcada_Reixac\",\n",
    "    'Aforament - la Garriga': \"La_Garriga\"\n",
    "}\n",
    "\n",
    "# Asignar los nuevos nombres\n",
    "TotalDat['Estacio'] = TotalDat['Estacio'].replace(nuevos_nombres)\n",
    "print(TotalDat.head())\n",
    "\n",
    "# 3.2 Asegurarse de que la columna 'Dia' esté en formato de fecha\n",
    "TotalDat['Fecha'] = pd.to_datetime(TotalDat['Dia'], format=\"%m/%d/%Y\")\n",
    "\n",
    "# Extraer el año correctamente ahora que la columna 'Fecha' está en el formato correcto\n",
    "TotalDat['Year'] = TotalDat['Fecha'].dt.year\n",
    "\n",
    "# Verificar si se creó la columna 'Year'\n",
    "print(TotalDat.head())\n",
    "\n",
    "# 3.3 Creación de nuevas variables (mes, año)\n",
    "TotalDat['Mes'] = TotalDat['Fecha'].dt.month  # Extraer el mes\n",
    "TotalDat['Year'] = TotalDat['Fecha'].dt.year  # Extraer el año\n",
    "\n",
    "# 3.4 Mostrar las primeras filas para revisar las nuevas variables\n",
    "print(TotalDat.head())\n",
    "\n",
    "# 4. Cuántos datos tiene cada estación\n",
    "print(TotalDat['Estacio'].value_counts())\n",
    "\n",
    "# 5 Detección y eliminación de datos duplicados\n",
    "DF_Montornes = TotalDat[TotalDat['Estacio'] == \"Montornes\"]\n",
    "\n",
    "# Ordenar el dataframe por la columna 'Fecha'\n",
    "DF_Montornes = DF_Montornes.sort_values(by='Fecha')\n",
    "print(DF_Montornes.head())\n",
    "\n",
    "# Eliminar las filas duplicadas\n",
    "TotalDat = TotalDat.drop_duplicates()\n",
    "\n",
    "# ORDENAR LAS ESTACIONES en el orden deseado\n",
    "estaciones_ordenadas = ['Llica_de_Vall', 'Santa_Perpetua', 'Montornes', \n",
    "                        'Aiguafreda', 'La_Garriga', 'Montcada_Reixac', \n",
    "                        'Santa_Coloma', 'Castellar']\n",
    "TotalDat['Estacio'] = pd.Categorical(TotalDat['Estacio'], categories=estaciones_ordenadas, ordered=True)\n"
   ]
  },
  {
   "cell_type": "code",
   "execution_count": 37,
   "metadata": {},
   "outputs": [
    {
     "name": "stdout",
     "output_type": "stream",
     "text": [
      "Estacio\n",
      "Montcada_Reixac    3648\n",
      "Llica_de_Vall      3646\n",
      "Santa_Perpetua     3604\n",
      "Montornes          3047\n",
      "Santa_Coloma       2692\n",
      "Castellar          2577\n",
      "Aiguafreda         1493\n",
      "La_Garriga         1198\n",
      "Name: count, dtype: int64\n"
     ]
    }
   ],
   "source": [
    "# Ver la tabla de frecuencia para la variable 'Estacio'\n",
    "print(TotalDat['Estacio'].value_counts())"
   ]
  },
  {
   "cell_type": "code",
   "execution_count": 38,
   "metadata": {},
   "outputs": [
    {
     "data": {
      "application/vnd.plotly.v1+json": {
       "config": {
        "plotlyServerURL": "https://plot.ly"
       },
       "data": [
        {
         "alignmentgroup": "True",
         "hovertemplate": "<b>%{hovertext}</b><br><br>Estación=Llica_de_Vall<br>Año=%{x}<br>Número de Datos=%{text}<extra></extra>",
         "hovertext": [
          "Llica_de_Vall",
          "Llica_de_Vall",
          "Llica_de_Vall",
          "Llica_de_Vall",
          "Llica_de_Vall",
          "Llica_de_Vall",
          "Llica_de_Vall",
          "Llica_de_Vall",
          "Llica_de_Vall",
          "Llica_de_Vall",
          "Llica_de_Vall"
         ],
         "legendgroup": "Llica_de_Vall",
         "marker": {
          "color": "#636efa",
          "pattern": {
           "shape": ""
          }
         },
         "name": "Llica_de_Vall",
         "offsetgroup": "Llica_de_Vall",
         "orientation": "v",
         "showlegend": true,
         "text": [
          156,
          365,
          365,
          365,
          365,
          365,
          363,
          365,
          366,
          359,
          212
         ],
         "textposition": "auto",
         "type": "bar",
         "x": [
          2000,
          2001,
          2002,
          2003,
          2004,
          2005,
          2006,
          2007,
          2008,
          2009,
          2010
         ],
         "xaxis": "x",
         "y": [
          156,
          365,
          365,
          365,
          365,
          365,
          363,
          365,
          366,
          359,
          212
         ],
         "yaxis": "y"
        },
        {
         "alignmentgroup": "True",
         "hovertemplate": "<b>%{hovertext}</b><br><br>Estación=Santa_Perpetua<br>Año=%{x}<br>Número de Datos=%{text}<extra></extra>",
         "hovertext": [
          "Santa_Perpetua",
          "Santa_Perpetua",
          "Santa_Perpetua",
          "Santa_Perpetua",
          "Santa_Perpetua",
          "Santa_Perpetua",
          "Santa_Perpetua",
          "Santa_Perpetua",
          "Santa_Perpetua",
          "Santa_Perpetua",
          "Santa_Perpetua"
         ],
         "legendgroup": "Santa_Perpetua",
         "marker": {
          "color": "#EF553B",
          "pattern": {
           "shape": ""
          }
         },
         "name": "Santa_Perpetua",
         "offsetgroup": "Santa_Perpetua",
         "orientation": "v",
         "showlegend": true,
         "text": [
          156,
          365,
          365,
          365,
          365,
          365,
          365,
          364,
          348,
          340,
          206
         ],
         "textposition": "auto",
         "type": "bar",
         "x": [
          2000,
          2001,
          2002,
          2003,
          2004,
          2005,
          2006,
          2007,
          2008,
          2009,
          2010
         ],
         "xaxis": "x",
         "y": [
          156,
          365,
          365,
          365,
          365,
          365,
          365,
          364,
          348,
          340,
          206
         ],
         "yaxis": "y"
        },
        {
         "alignmentgroup": "True",
         "hovertemplate": "<b>%{hovertext}</b><br><br>Estación=Montornes<br>Año=%{x}<br>Número de Datos=%{text}<extra></extra>",
         "hovertext": [
          "Montornes",
          "Montornes",
          "Montornes",
          "Montornes",
          "Montornes",
          "Montornes",
          "Montornes",
          "Montornes",
          "Montornes",
          "Montornes",
          "Montornes"
         ],
         "legendgroup": "Montornes",
         "marker": {
          "color": "#00cc96",
          "pattern": {
           "shape": ""
          }
         },
         "name": "Montornes",
         "offsetgroup": "Montornes",
         "orientation": "v",
         "showlegend": true,
         "text": [
          156,
          365,
          365,
          365,
          365,
          365,
          365,
          365,
          157,
          0,
          179
         ],
         "textposition": "auto",
         "type": "bar",
         "x": [
          2000,
          2001,
          2002,
          2003,
          2004,
          2005,
          2006,
          2007,
          2008,
          2009,
          2010
         ],
         "xaxis": "x",
         "y": [
          156,
          365,
          365,
          365,
          365,
          365,
          365,
          365,
          157,
          0,
          179
         ],
         "yaxis": "y"
        },
        {
         "alignmentgroup": "True",
         "hovertemplate": "<b>%{hovertext}</b><br><br>Estación=Aiguafreda<br>Año=%{x}<br>Número de Datos=%{text}<extra></extra>",
         "hovertext": [
          "Aiguafreda",
          "Aiguafreda",
          "Aiguafreda",
          "Aiguafreda",
          "Aiguafreda",
          "Aiguafreda",
          "Aiguafreda",
          "Aiguafreda",
          "Aiguafreda",
          "Aiguafreda",
          "Aiguafreda"
         ],
         "legendgroup": "Aiguafreda",
         "marker": {
          "color": "#ab63fa",
          "pattern": {
           "shape": ""
          }
         },
         "name": "Aiguafreda",
         "offsetgroup": "Aiguafreda",
         "orientation": "v",
         "showlegend": true,
         "text": [
          0,
          0,
          0,
          0,
          0,
          0,
          355,
          347,
          336,
          282,
          173
         ],
         "textposition": "auto",
         "type": "bar",
         "x": [
          2000,
          2001,
          2002,
          2003,
          2004,
          2005,
          2006,
          2007,
          2008,
          2009,
          2010
         ],
         "xaxis": "x",
         "y": [
          0,
          0,
          0,
          0,
          0,
          0,
          355,
          347,
          336,
          282,
          173
         ],
         "yaxis": "y"
        },
        {
         "alignmentgroup": "True",
         "hovertemplate": "<b>%{hovertext}</b><br><br>Estación=La_Garriga<br>Año=%{x}<br>Número de Datos=%{text}<extra></extra>",
         "hovertext": [
          "La_Garriga",
          "La_Garriga",
          "La_Garriga",
          "La_Garriga",
          "La_Garriga",
          "La_Garriga",
          "La_Garriga",
          "La_Garriga",
          "La_Garriga",
          "La_Garriga",
          "La_Garriga"
         ],
         "legendgroup": "La_Garriga",
         "marker": {
          "color": "#FFA15A",
          "pattern": {
           "shape": ""
          }
         },
         "name": "La_Garriga",
         "offsetgroup": "La_Garriga",
         "orientation": "v",
         "showlegend": true,
         "text": [
          0,
          0,
          0,
          0,
          1,
          1,
          1,
          259,
          364,
          361,
          211
         ],
         "textposition": "auto",
         "type": "bar",
         "x": [
          2000,
          2001,
          2002,
          2003,
          2004,
          2005,
          2006,
          2007,
          2008,
          2009,
          2010
         ],
         "xaxis": "x",
         "y": [
          0,
          0,
          0,
          0,
          1,
          1,
          1,
          259,
          364,
          361,
          211
         ],
         "yaxis": "y"
        },
        {
         "alignmentgroup": "True",
         "hovertemplate": "<b>%{hovertext}</b><br><br>Estación=Montcada_Reixac<br>Año=%{x}<br>Número de Datos=%{text}<extra></extra>",
         "hovertext": [
          "Montcada_Reixac",
          "Montcada_Reixac",
          "Montcada_Reixac",
          "Montcada_Reixac",
          "Montcada_Reixac",
          "Montcada_Reixac",
          "Montcada_Reixac",
          "Montcada_Reixac",
          "Montcada_Reixac",
          "Montcada_Reixac",
          "Montcada_Reixac"
         ],
         "legendgroup": "Montcada_Reixac",
         "marker": {
          "color": "#19d3f3",
          "pattern": {
           "shape": ""
          }
         },
         "name": "Montcada_Reixac",
         "offsetgroup": "Montcada_Reixac",
         "orientation": "v",
         "showlegend": true,
         "text": [
          156,
          365,
          365,
          365,
          365,
          365,
          362,
          365,
          364,
          364,
          212
         ],
         "textposition": "auto",
         "type": "bar",
         "x": [
          2000,
          2001,
          2002,
          2003,
          2004,
          2005,
          2006,
          2007,
          2008,
          2009,
          2010
         ],
         "xaxis": "x",
         "y": [
          156,
          365,
          365,
          365,
          365,
          365,
          362,
          365,
          364,
          364,
          212
         ],
         "yaxis": "y"
        },
        {
         "alignmentgroup": "True",
         "hovertemplate": "<b>%{hovertext}</b><br><br>Estación=Santa_Coloma<br>Año=%{x}<br>Número de Datos=%{text}<extra></extra>",
         "hovertext": [
          "Santa_Coloma",
          "Santa_Coloma",
          "Santa_Coloma",
          "Santa_Coloma",
          "Santa_Coloma",
          "Santa_Coloma",
          "Santa_Coloma",
          "Santa_Coloma",
          "Santa_Coloma",
          "Santa_Coloma",
          "Santa_Coloma"
         ],
         "legendgroup": "Santa_Coloma",
         "marker": {
          "color": "#FF6692",
          "pattern": {
           "shape": ""
          }
         },
         "name": "Santa_Coloma",
         "offsetgroup": "Santa_Coloma",
         "orientation": "v",
         "showlegend": true,
         "text": [
          0,
          0,
          0,
          365,
          366,
          363,
          365,
          365,
          356,
          347,
          165
         ],
         "textposition": "auto",
         "type": "bar",
         "x": [
          2000,
          2001,
          2002,
          2003,
          2004,
          2005,
          2006,
          2007,
          2008,
          2009,
          2010
         ],
         "xaxis": "x",
         "y": [
          0,
          0,
          0,
          365,
          366,
          363,
          365,
          365,
          356,
          347,
          165
         ],
         "yaxis": "y"
        },
        {
         "alignmentgroup": "True",
         "hovertemplate": "<b>%{hovertext}</b><br><br>Estación=Castellar<br>Año=%{x}<br>Número de Datos=%{text}<extra></extra>",
         "hovertext": [
          "Castellar",
          "Castellar",
          "Castellar",
          "Castellar",
          "Castellar",
          "Castellar",
          "Castellar",
          "Castellar",
          "Castellar",
          "Castellar",
          "Castellar"
         ],
         "legendgroup": "Castellar",
         "marker": {
          "color": "#B6E880",
          "pattern": {
           "shape": ""
          }
         },
         "name": "Castellar",
         "offsetgroup": "Castellar",
         "orientation": "v",
         "showlegend": true,
         "text": [
          156,
          365,
          365,
          365,
          84,
          290,
          0,
          87,
          306,
          355,
          204
         ],
         "textposition": "auto",
         "type": "bar",
         "x": [
          2000,
          2001,
          2002,
          2003,
          2004,
          2005,
          2006,
          2007,
          2008,
          2009,
          2010
         ],
         "xaxis": "x",
         "y": [
          156,
          365,
          365,
          365,
          84,
          290,
          0,
          87,
          306,
          355,
          204
         ],
         "yaxis": "y"
        }
       ],
       "layout": {
        "bargap": 0.2,
        "barmode": "group",
        "hovermode": "x unified",
        "legend": {
         "title": {
          "text": "Estaciones"
         },
         "tracegroupgap": 0
        },
        "template": {
         "data": {
          "bar": [
           {
            "error_x": {
             "color": "#2a3f5f"
            },
            "error_y": {
             "color": "#2a3f5f"
            },
            "marker": {
             "line": {
              "color": "#E5ECF6",
              "width": 0.5
             },
             "pattern": {
              "fillmode": "overlay",
              "size": 10,
              "solidity": 0.2
             }
            },
            "type": "bar"
           }
          ],
          "barpolar": [
           {
            "marker": {
             "line": {
              "color": "#E5ECF6",
              "width": 0.5
             },
             "pattern": {
              "fillmode": "overlay",
              "size": 10,
              "solidity": 0.2
             }
            },
            "type": "barpolar"
           }
          ],
          "carpet": [
           {
            "aaxis": {
             "endlinecolor": "#2a3f5f",
             "gridcolor": "white",
             "linecolor": "white",
             "minorgridcolor": "white",
             "startlinecolor": "#2a3f5f"
            },
            "baxis": {
             "endlinecolor": "#2a3f5f",
             "gridcolor": "white",
             "linecolor": "white",
             "minorgridcolor": "white",
             "startlinecolor": "#2a3f5f"
            },
            "type": "carpet"
           }
          ],
          "choropleth": [
           {
            "colorbar": {
             "outlinewidth": 0,
             "ticks": ""
            },
            "type": "choropleth"
           }
          ],
          "contour": [
           {
            "colorbar": {
             "outlinewidth": 0,
             "ticks": ""
            },
            "colorscale": [
             [
              0,
              "#0d0887"
             ],
             [
              0.1111111111111111,
              "#46039f"
             ],
             [
              0.2222222222222222,
              "#7201a8"
             ],
             [
              0.3333333333333333,
              "#9c179e"
             ],
             [
              0.4444444444444444,
              "#bd3786"
             ],
             [
              0.5555555555555556,
              "#d8576b"
             ],
             [
              0.6666666666666666,
              "#ed7953"
             ],
             [
              0.7777777777777778,
              "#fb9f3a"
             ],
             [
              0.8888888888888888,
              "#fdca26"
             ],
             [
              1,
              "#f0f921"
             ]
            ],
            "type": "contour"
           }
          ],
          "contourcarpet": [
           {
            "colorbar": {
             "outlinewidth": 0,
             "ticks": ""
            },
            "type": "contourcarpet"
           }
          ],
          "heatmap": [
           {
            "colorbar": {
             "outlinewidth": 0,
             "ticks": ""
            },
            "colorscale": [
             [
              0,
              "#0d0887"
             ],
             [
              0.1111111111111111,
              "#46039f"
             ],
             [
              0.2222222222222222,
              "#7201a8"
             ],
             [
              0.3333333333333333,
              "#9c179e"
             ],
             [
              0.4444444444444444,
              "#bd3786"
             ],
             [
              0.5555555555555556,
              "#d8576b"
             ],
             [
              0.6666666666666666,
              "#ed7953"
             ],
             [
              0.7777777777777778,
              "#fb9f3a"
             ],
             [
              0.8888888888888888,
              "#fdca26"
             ],
             [
              1,
              "#f0f921"
             ]
            ],
            "type": "heatmap"
           }
          ],
          "heatmapgl": [
           {
            "colorbar": {
             "outlinewidth": 0,
             "ticks": ""
            },
            "colorscale": [
             [
              0,
              "#0d0887"
             ],
             [
              0.1111111111111111,
              "#46039f"
             ],
             [
              0.2222222222222222,
              "#7201a8"
             ],
             [
              0.3333333333333333,
              "#9c179e"
             ],
             [
              0.4444444444444444,
              "#bd3786"
             ],
             [
              0.5555555555555556,
              "#d8576b"
             ],
             [
              0.6666666666666666,
              "#ed7953"
             ],
             [
              0.7777777777777778,
              "#fb9f3a"
             ],
             [
              0.8888888888888888,
              "#fdca26"
             ],
             [
              1,
              "#f0f921"
             ]
            ],
            "type": "heatmapgl"
           }
          ],
          "histogram": [
           {
            "marker": {
             "pattern": {
              "fillmode": "overlay",
              "size": 10,
              "solidity": 0.2
             }
            },
            "type": "histogram"
           }
          ],
          "histogram2d": [
           {
            "colorbar": {
             "outlinewidth": 0,
             "ticks": ""
            },
            "colorscale": [
             [
              0,
              "#0d0887"
             ],
             [
              0.1111111111111111,
              "#46039f"
             ],
             [
              0.2222222222222222,
              "#7201a8"
             ],
             [
              0.3333333333333333,
              "#9c179e"
             ],
             [
              0.4444444444444444,
              "#bd3786"
             ],
             [
              0.5555555555555556,
              "#d8576b"
             ],
             [
              0.6666666666666666,
              "#ed7953"
             ],
             [
              0.7777777777777778,
              "#fb9f3a"
             ],
             [
              0.8888888888888888,
              "#fdca26"
             ],
             [
              1,
              "#f0f921"
             ]
            ],
            "type": "histogram2d"
           }
          ],
          "histogram2dcontour": [
           {
            "colorbar": {
             "outlinewidth": 0,
             "ticks": ""
            },
            "colorscale": [
             [
              0,
              "#0d0887"
             ],
             [
              0.1111111111111111,
              "#46039f"
             ],
             [
              0.2222222222222222,
              "#7201a8"
             ],
             [
              0.3333333333333333,
              "#9c179e"
             ],
             [
              0.4444444444444444,
              "#bd3786"
             ],
             [
              0.5555555555555556,
              "#d8576b"
             ],
             [
              0.6666666666666666,
              "#ed7953"
             ],
             [
              0.7777777777777778,
              "#fb9f3a"
             ],
             [
              0.8888888888888888,
              "#fdca26"
             ],
             [
              1,
              "#f0f921"
             ]
            ],
            "type": "histogram2dcontour"
           }
          ],
          "mesh3d": [
           {
            "colorbar": {
             "outlinewidth": 0,
             "ticks": ""
            },
            "type": "mesh3d"
           }
          ],
          "parcoords": [
           {
            "line": {
             "colorbar": {
              "outlinewidth": 0,
              "ticks": ""
             }
            },
            "type": "parcoords"
           }
          ],
          "pie": [
           {
            "automargin": true,
            "type": "pie"
           }
          ],
          "scatter": [
           {
            "fillpattern": {
             "fillmode": "overlay",
             "size": 10,
             "solidity": 0.2
            },
            "type": "scatter"
           }
          ],
          "scatter3d": [
           {
            "line": {
             "colorbar": {
              "outlinewidth": 0,
              "ticks": ""
             }
            },
            "marker": {
             "colorbar": {
              "outlinewidth": 0,
              "ticks": ""
             }
            },
            "type": "scatter3d"
           }
          ],
          "scattercarpet": [
           {
            "marker": {
             "colorbar": {
              "outlinewidth": 0,
              "ticks": ""
             }
            },
            "type": "scattercarpet"
           }
          ],
          "scattergeo": [
           {
            "marker": {
             "colorbar": {
              "outlinewidth": 0,
              "ticks": ""
             }
            },
            "type": "scattergeo"
           }
          ],
          "scattergl": [
           {
            "marker": {
             "colorbar": {
              "outlinewidth": 0,
              "ticks": ""
             }
            },
            "type": "scattergl"
           }
          ],
          "scattermapbox": [
           {
            "marker": {
             "colorbar": {
              "outlinewidth": 0,
              "ticks": ""
             }
            },
            "type": "scattermapbox"
           }
          ],
          "scatterpolar": [
           {
            "marker": {
             "colorbar": {
              "outlinewidth": 0,
              "ticks": ""
             }
            },
            "type": "scatterpolar"
           }
          ],
          "scatterpolargl": [
           {
            "marker": {
             "colorbar": {
              "outlinewidth": 0,
              "ticks": ""
             }
            },
            "type": "scatterpolargl"
           }
          ],
          "scatterternary": [
           {
            "marker": {
             "colorbar": {
              "outlinewidth": 0,
              "ticks": ""
             }
            },
            "type": "scatterternary"
           }
          ],
          "surface": [
           {
            "colorbar": {
             "outlinewidth": 0,
             "ticks": ""
            },
            "colorscale": [
             [
              0,
              "#0d0887"
             ],
             [
              0.1111111111111111,
              "#46039f"
             ],
             [
              0.2222222222222222,
              "#7201a8"
             ],
             [
              0.3333333333333333,
              "#9c179e"
             ],
             [
              0.4444444444444444,
              "#bd3786"
             ],
             [
              0.5555555555555556,
              "#d8576b"
             ],
             [
              0.6666666666666666,
              "#ed7953"
             ],
             [
              0.7777777777777778,
              "#fb9f3a"
             ],
             [
              0.8888888888888888,
              "#fdca26"
             ],
             [
              1,
              "#f0f921"
             ]
            ],
            "type": "surface"
           }
          ],
          "table": [
           {
            "cells": {
             "fill": {
              "color": "#EBF0F8"
             },
             "line": {
              "color": "white"
             }
            },
            "header": {
             "fill": {
              "color": "#C8D4E3"
             },
             "line": {
              "color": "white"
             }
            },
            "type": "table"
           }
          ]
         },
         "layout": {
          "annotationdefaults": {
           "arrowcolor": "#2a3f5f",
           "arrowhead": 0,
           "arrowwidth": 1
          },
          "autotypenumbers": "strict",
          "coloraxis": {
           "colorbar": {
            "outlinewidth": 0,
            "ticks": ""
           }
          },
          "colorscale": {
           "diverging": [
            [
             0,
             "#8e0152"
            ],
            [
             0.1,
             "#c51b7d"
            ],
            [
             0.2,
             "#de77ae"
            ],
            [
             0.3,
             "#f1b6da"
            ],
            [
             0.4,
             "#fde0ef"
            ],
            [
             0.5,
             "#f7f7f7"
            ],
            [
             0.6,
             "#e6f5d0"
            ],
            [
             0.7,
             "#b8e186"
            ],
            [
             0.8,
             "#7fbc41"
            ],
            [
             0.9,
             "#4d9221"
            ],
            [
             1,
             "#276419"
            ]
           ],
           "sequential": [
            [
             0,
             "#0d0887"
            ],
            [
             0.1111111111111111,
             "#46039f"
            ],
            [
             0.2222222222222222,
             "#7201a8"
            ],
            [
             0.3333333333333333,
             "#9c179e"
            ],
            [
             0.4444444444444444,
             "#bd3786"
            ],
            [
             0.5555555555555556,
             "#d8576b"
            ],
            [
             0.6666666666666666,
             "#ed7953"
            ],
            [
             0.7777777777777778,
             "#fb9f3a"
            ],
            [
             0.8888888888888888,
             "#fdca26"
            ],
            [
             1,
             "#f0f921"
            ]
           ],
           "sequentialminus": [
            [
             0,
             "#0d0887"
            ],
            [
             0.1111111111111111,
             "#46039f"
            ],
            [
             0.2222222222222222,
             "#7201a8"
            ],
            [
             0.3333333333333333,
             "#9c179e"
            ],
            [
             0.4444444444444444,
             "#bd3786"
            ],
            [
             0.5555555555555556,
             "#d8576b"
            ],
            [
             0.6666666666666666,
             "#ed7953"
            ],
            [
             0.7777777777777778,
             "#fb9f3a"
            ],
            [
             0.8888888888888888,
             "#fdca26"
            ],
            [
             1,
             "#f0f921"
            ]
           ]
          },
          "colorway": [
           "#636efa",
           "#EF553B",
           "#00cc96",
           "#ab63fa",
           "#FFA15A",
           "#19d3f3",
           "#FF6692",
           "#B6E880",
           "#FF97FF",
           "#FECB52"
          ],
          "font": {
           "color": "#2a3f5f"
          },
          "geo": {
           "bgcolor": "white",
           "lakecolor": "white",
           "landcolor": "#E5ECF6",
           "showlakes": true,
           "showland": true,
           "subunitcolor": "white"
          },
          "hoverlabel": {
           "align": "left"
          },
          "hovermode": "closest",
          "mapbox": {
           "style": "light"
          },
          "paper_bgcolor": "white",
          "plot_bgcolor": "#E5ECF6",
          "polar": {
           "angularaxis": {
            "gridcolor": "white",
            "linecolor": "white",
            "ticks": ""
           },
           "bgcolor": "#E5ECF6",
           "radialaxis": {
            "gridcolor": "white",
            "linecolor": "white",
            "ticks": ""
           }
          },
          "scene": {
           "xaxis": {
            "backgroundcolor": "#E5ECF6",
            "gridcolor": "white",
            "gridwidth": 2,
            "linecolor": "white",
            "showbackground": true,
            "ticks": "",
            "zerolinecolor": "white"
           },
           "yaxis": {
            "backgroundcolor": "#E5ECF6",
            "gridcolor": "white",
            "gridwidth": 2,
            "linecolor": "white",
            "showbackground": true,
            "ticks": "",
            "zerolinecolor": "white"
           },
           "zaxis": {
            "backgroundcolor": "#E5ECF6",
            "gridcolor": "white",
            "gridwidth": 2,
            "linecolor": "white",
            "showbackground": true,
            "ticks": "",
            "zerolinecolor": "white"
           }
          },
          "shapedefaults": {
           "line": {
            "color": "#2a3f5f"
           }
          },
          "ternary": {
           "aaxis": {
            "gridcolor": "white",
            "linecolor": "white",
            "ticks": ""
           },
           "baxis": {
            "gridcolor": "white",
            "linecolor": "white",
            "ticks": ""
           },
           "bgcolor": "#E5ECF6",
           "caxis": {
            "gridcolor": "white",
            "linecolor": "white",
            "ticks": ""
           }
          },
          "title": {
           "x": 0.05
          },
          "xaxis": {
           "automargin": true,
           "gridcolor": "white",
           "linecolor": "white",
           "ticks": "",
           "title": {
            "standoff": 15
           },
           "zerolinecolor": "white",
           "zerolinewidth": 2
          },
          "yaxis": {
           "automargin": true,
           "gridcolor": "white",
           "linecolor": "white",
           "ticks": "",
           "title": {
            "standoff": 15
           },
           "zerolinecolor": "white",
           "zerolinewidth": 2
          }
         }
        },
        "title": {
         "text": "Número de datos para cada estación por año"
        },
        "xaxis": {
         "anchor": "y",
         "domain": [
          0,
          1
         ],
         "title": {
          "text": "Año"
         }
        },
        "yaxis": {
         "anchor": "x",
         "domain": [
          0,
          1
         ],
         "title": {
          "text": "Número de Datos"
         }
        }
       }
      }
     },
     "metadata": {},
     "output_type": "display_data"
    }
   ],
   "source": [
    "# 6. Contar el número de datos por estación y por año\n",
    "tabla_contingencia = TotalDat.groupby(['Estacio', 'Year']).size().reset_index(name='Count')\n",
    "\n",
    "# Crear el gráfico interactivo con Plotly\n",
    "fig = px.bar(tabla_contingencia, x='Year', y='Count', color='Estacio', \n",
    "             title=\"Número de datos para cada estación por año\", \n",
    "             labels={\"Count\": \"Número de Datos\", \"Year\": \"Año\", \"Estacio\": \"Estación\"},\n",
    "             barmode='group',  # Puedes usar 'stack' para barras apiladas o 'group' para barras agrupadas\n",
    "             text='Count', hover_name=\"Estacio\")\n",
    "\n",
    "# Personalizar el diseño del gráfico\n",
    "fig.update_layout(\n",
    "    xaxis_title=\"Año\",\n",
    "    yaxis_title=\"Número de Datos\",\n",
    "    legend_title=\"Estaciones\",\n",
    "    bargap=0.2,\n",
    "    hovermode=\"x unified\"\n",
    ")\n",
    "\n",
    "# Mostrar el gráfico interactivo\n",
    "fig.show()"
   ]
  }
 ],
 "metadata": {
  "kernelspec": {
   "display_name": "base",
   "language": "python",
   "name": "python3"
  },
  "language_info": {
   "codemirror_mode": {
    "name": "ipython",
    "version": 3
   },
   "file_extension": ".py",
   "mimetype": "text/x-python",
   "name": "python",
   "nbconvert_exporter": "python",
   "pygments_lexer": "ipython3",
   "version": "3.11.5"
  }
 },
 "nbformat": 4,
 "nbformat_minor": 2
}
